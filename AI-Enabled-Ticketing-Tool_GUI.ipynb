{
 "cells": [
  {
   "cell_type": "code",
   "execution_count": 1,
   "id": "artistic-turtle",
   "metadata": {},
   "outputs": [
    {
     "name": "stdout",
     "output_type": "stream",
     "text": [
      "Requirement already satisfied: pysimplegui in c:\\users\\dishapalan\\anaconda3\\envs\\tensorflow\\lib\\site-packages (4.45.0)\n",
      "Note: you may need to restart the kernel to use updated packages.\n"
     ]
    }
   ],
   "source": [
    "pip install pysimplegui\n"
   ]
  },
  {
   "cell_type": "code",
   "execution_count": 2,
   "id": "northern-india",
   "metadata": {},
   "outputs": [
    {
     "name": "stdout",
     "output_type": "stream",
     "text": [
      "Requirement already satisfied: xlrd==1.2.0 in c:\\users\\dishapalan\\anaconda3\\envs\\tensorflow\\lib\\site-packages (1.2.0)\n",
      "Note: you may need to restart the kernel to use updated packages.\n"
     ]
    }
   ],
   "source": [
    "pip install xlrd==1.2.0"
   ]
  },
  {
   "cell_type": "code",
   "execution_count": 3,
   "id": "circular-university",
   "metadata": {},
   "outputs": [],
   "source": [
    "import PySimpleGUI as sg\n",
    "import pickle\n",
    "import pandas as pd\n",
    "import os.path\n",
    "from os import path"
   ]
  },
  {
   "cell_type": "code",
   "execution_count": 5,
   "id": "later-inside",
   "metadata": {},
   "outputs": [],
   "source": [
    "# Choose a Theme for the Layout\n",
    "sg.theme('LightGrey1')\n",
    "  \n",
    "layout = [[sg.T(\"         \"), sg.Radio('Mass Input', \"RADIO1\", enable_events=True, default=False, key=\"mass_input\")],\n",
    "          [sg.T(\"         \"), sg.Radio('Single Input', \"RADIO1\", enable_events=True, default=True, key=\"single_input\")],\n",
    "          [sg.Text('Enter Ticket Description', key=\"_ticket_desc_lbl_\"), sg.Multiline(key=\"_ticket_desc_input_\")],\n",
    "          [sg.Text('Description column in above file', key=\"_ticket_desc_col_lbl_\"), sg.InputText(key=\"_ticket_desc__col_input_\")],\n",
    "          [sg.Button('Predict')],\n",
    "          [sg.Text('Your ticket will be assigned to group', key=\"_ticket_group_lbl_\"), sg.InputText(key=\"_ticket_group_input_\")],\n",
    "          [sg.Text('                                                                                        ', key=\"_error_lbl_\")],\n",
    "          \n",
    "         ]\n",
    "  \n",
    "###Setting Window\n",
    "window = sg.Window('AI Enabled Ticketing Tool', layout, size=(600,600)).finalize()\n",
    "window.Element('_ticket_desc__col_input_').Update(disabled=True)\n",
    "\n",
    "###Showing the Application, also GUI functions can be placed here.\n",
    "while True:\n",
    "    event, values = window.read()\n",
    "    if event == sg.WIN_CLOSED or event==\"Exit\":\n",
    "        break\n",
    "    elif event == 'mass_input':\n",
    "        print(\"Mass input\")\n",
    "        window.Element('_ticket_desc__col_input_').Update(disabled=False)\n",
    "        window.Element('_ticket_desc_lbl_').Update('Enter File name') \n",
    "        \n",
    "    elif event == 'single_input':\n",
    "        print(\"Single input\")\n",
    "        window.Element('_ticket_desc_lbl_').Update('Enter Ticket Description')\n",
    "        window.Element('_ticket_desc__col_input_').Update(disabled=True)\n",
    "        \n",
    "    elif event == 'Predict':\n",
    "        text_predict = []\n",
    "        text_predict.clear()    \n",
    "        \n",
    "        if values['mass_input'] == True:\n",
    "            description = values['_ticket_desc_input_']\n",
    "            userInput = description.splitlines()\n",
    "            print(description)\n",
    "            window.Element('_ticket_group_input_').Update('')\n",
    "            \n",
    "            #check the extension\n",
    "            extension = description.split(sep=\".\", maxsplit=1)\n",
    "            print(extension)\n",
    "            if len(extension) != 2:\n",
    "                window.Element('_error_lbl_').Update(background_color='#FFCCCB')\n",
    "                window.Element('_error_lbl_').Update('Please enter the file extension')\n",
    "            elif ( ( len(extension) == 2 )  and ( extension[1] == 'xlsx\\n' or extension[1] == 'xls\\n' ) ) :\n",
    "                print(\"extension available as excel\")\n",
    "                # Fetch the data from input data stored in Goolge drive\n",
    "                print(userInput)\n",
    "                filename = userInput[0]\n",
    "                \n",
    "                if path.exists(filename) == True:\n",
    "                    incidents_data = pd.read_excel(filename)\n",
    "                    text_predict = incidents_data['Ticket_Description']\n",
    "                    if len(text_predict) > 0:\n",
    "                        with open('SVC Classifier - 2.pkl', 'rb') as f:\n",
    "                          classifier = pickle.load(f)\n",
    "\n",
    "                        #Predict\n",
    "                        predicted_group = classifier.predict(text_predict)\n",
    "                        print(predicted_group)\n",
    "\n",
    "                        predicted_groups = pd.DataFrame(columns=['Ticket Descriptions', 'Assignment Groups'])\n",
    "                        predicted_groups['Ticket Descriptions'] = text_predict\n",
    "                        predicted_groups['Assignment Groups'] = predicted_group\n",
    "                        with open('Assignment-Group-Predictions.pkl', 'wb') as f:\n",
    "                          pickle.dump(predicted_groups, f)\n",
    "                          print('File pickled')\n",
    "                        window.Element('_error_lbl_').Update(background_color='#00D100')\n",
    "                        window.Element('_error_lbl_').Update('Prediction/s completed')\n",
    "                        #print(predicted_groups)\n",
    "\n",
    "                        window.Element('_ticket_group_input_').Update('Updated in the file named Assignment-Group-Predictions.pkl stored in same directory')\n",
    "                else:\n",
    "                    window.Element('_error_lbl_').Update(background_color='#FFCCCB')\n",
    "                    window.Element('_error_lbl_').Update('File does not exist')\n",
    "            elif ( ( len(extension) == 2 )  and (extension[1] == 'csv\\n') ):\n",
    "                print(\"extension available as csv\")\n",
    "                # Fetch the data from input data stored in Goolge drive\n",
    "                filename = userInput[0]\n",
    "                if path.exists(filename) == True:\n",
    "                    incidents_data = pd.read_csv(filename)\n",
    "                    text_predict = incidents_data['Ticket_Description']\n",
    "                    if len(text_predict) > 0:\n",
    "                        with open('SVC Classifier - 2.pkl', 'rb') as f:\n",
    "                          classifier = pickle.load(f)\n",
    "\n",
    "                        #Predict\n",
    "                        predicted_group = classifier.predict(text_predict)\n",
    "                        print(predicted_group)\n",
    "\n",
    "                        predicted_groups = pd.DataFrame(columns=['Ticket Descriptions', 'Assignment Groups'])\n",
    "                        predicted_groups['Ticket Descriptions'] = text_predict\n",
    "                        predicted_groups['Assignment Groups'] = predicted_group\n",
    "                        with open('Assignment-Group-Predictions.pkl', 'wb') as f:\n",
    "                          pickle.dump(predicted_groups, f)\n",
    "                          print('File pickled')\n",
    "                        window.Element('_error_lbl_').Update(background_color='#00D100')\n",
    "                        window.Element('_error_lbl_').Update('Prediction/s completed')\n",
    "                        #print(predicted_groups)\n",
    "\n",
    "                        window.Element('_ticket_group_input_').Update('Updated in the file named Assignment-Group-Predictions.pkl stored in same directory')\n",
    "                else:\n",
    "                    window.Element('_error_lbl_').Update(background_color='#FFCCCB')\n",
    "                    window.Element('_error_lbl_').Update('File does not exist')\n",
    "            elif len(extension) == 2:\n",
    "                print(\"extension available not as excel\")\n",
    "                window.Element('_error_lbl_').Update(background_color='#FFCCCB')\n",
    "                window.Element('_error_lbl_').Update('Only excel or csv files are supported')\n",
    "            \n",
    "        elif values['single_input'] == True: \n",
    "            text_predict.append(values[\"_ticket_desc_input_\"])\n",
    "            \n",
    "            #Fetch the pickled model\n",
    "            if len(text_predict) > 0:\n",
    "                # The pickled file is added in the same gitHub Repo named SVC Classifier - 2.pkl\n",
    "                with open('SVC Classifier - 2.pkl', 'rb') as f:\n",
    "                  classifier = pickle.load(f)\n",
    "\n",
    "                #Predict\n",
    "                predicted_group = classifier.predict(text_predict)\n",
    "                \n",
    "                window.Element('_ticket_group_input_').Update('GRP_'+str(predicted_group[0]))\n",
    "                window.Element('_error_lbl_').Update(background_color='#00D100')\n",
    "                window.Element('_error_lbl_').Update('Prediction/s completed')\n",
    "    \n",
    "window.close()"
   ]
  },
  {
   "cell_type": "code",
   "execution_count": 5,
   "id": "exempt-browser",
   "metadata": {},
   "outputs": [],
   "source": [
    "with open('Assignment-Group-Predictions.pkl', 'rb') as f:\n",
    "    predicted_group_df = pickle.load(f)"
   ]
  },
  {
   "cell_type": "code",
   "execution_count": 6,
   "id": "handmade-injection",
   "metadata": {},
   "outputs": [
    {
     "data": {
      "text/html": [
       "<div>\n",
       "<style scoped>\n",
       "    .dataframe tbody tr th:only-of-type {\n",
       "        vertical-align: middle;\n",
       "    }\n",
       "\n",
       "    .dataframe tbody tr th {\n",
       "        vertical-align: top;\n",
       "    }\n",
       "\n",
       "    .dataframe thead th {\n",
       "        text-align: right;\n",
       "    }\n",
       "</style>\n",
       "<table border=\"1\" class=\"dataframe\">\n",
       "  <thead>\n",
       "    <tr style=\"text-align: right;\">\n",
       "      <th></th>\n",
       "      <th>Ticket Descriptions</th>\n",
       "      <th>Assignment Groups</th>\n",
       "    </tr>\n",
       "  </thead>\n",
       "  <tbody>\n",
       "    <tr>\n",
       "      <th>0</th>\n",
       "      <td>received from: monitoring_tool@company.com    ...</td>\n",
       "      <td>45</td>\n",
       "    </tr>\n",
       "    <tr>\n",
       "      <th>1</th>\n",
       "      <td>received from: monitoring_tool@company.com    ...</td>\n",
       "      <td>45</td>\n",
       "    </tr>\n",
       "    <tr>\n",
       "      <th>2</th>\n",
       "      <td>reset password</td>\n",
       "      <td>0</td>\n",
       "    </tr>\n",
       "  </tbody>\n",
       "</table>\n",
       "</div>"
      ],
      "text/plain": [
       "                                 Ticket Descriptions  Assignment Groups\n",
       "0  received from: monitoring_tool@company.com    ...                 45\n",
       "1  received from: monitoring_tool@company.com    ...                 45\n",
       "2                                     reset password                  0"
      ]
     },
     "execution_count": 6,
     "metadata": {},
     "output_type": "execute_result"
    }
   ],
   "source": [
    "predicted_group_df"
   ]
  },
  {
   "cell_type": "code",
   "execution_count": null,
   "id": "imported-breakdown",
   "metadata": {},
   "outputs": [],
   "source": []
  }
 ],
 "metadata": {
  "kernelspec": {
   "display_name": "Python 3.6 (tensorflow)",
   "language": "python",
   "name": "tensorflow"
  },
  "language_info": {
   "codemirror_mode": {
    "name": "ipython",
    "version": 3
   },
   "file_extension": ".py",
   "mimetype": "text/x-python",
   "name": "python",
   "nbconvert_exporter": "python",
   "pygments_lexer": "ipython3",
   "version": "3.7.9"
  }
 },
 "nbformat": 4,
 "nbformat_minor": 5
}
