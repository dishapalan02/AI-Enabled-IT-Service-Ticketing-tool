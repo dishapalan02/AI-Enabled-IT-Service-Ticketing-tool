{
  "nbformat": 4,
  "nbformat_minor": 0,
  "metadata": {
    "colab": {
      "name": "ModelBuilding with Glove and Fasttext Embeddings.ipynb",
      "provenance": [],
      "collapsed_sections": []
    },
    "kernelspec": {
      "name": "python3",
      "display_name": "Python 3"
    },
    "language_info": {
      "name": "python"
    },
    "widgets": {
      "application/vnd.jupyter.widget-state+json": {
        "4aa979f35b0b4572afea6042ff43e435": {
          "model_module": "@jupyter-widgets/controls",
          "model_name": "HBoxModel",
          "state": {
            "_view_name": "HBoxView",
            "_dom_classes": [],
            "_model_name": "HBoxModel",
            "_view_module": "@jupyter-widgets/controls",
            "_model_module_version": "1.5.0",
            "_view_count": null,
            "_view_module_version": "1.5.0",
            "box_style": "",
            "layout": "IPY_MODEL_ba1da6820f624797a473166c3147ee26",
            "_model_module": "@jupyter-widgets/controls",
            "children": [
              "IPY_MODEL_a773b3b95cd04e2cae16d3fd6e5e3c87",
              "IPY_MODEL_642ccf844d7044ddacbd788acc89b92e"
            ]
          }
        },
        "ba1da6820f624797a473166c3147ee26": {
          "model_module": "@jupyter-widgets/base",
          "model_name": "LayoutModel",
          "state": {
            "_view_name": "LayoutView",
            "grid_template_rows": null,
            "right": null,
            "justify_content": null,
            "_view_module": "@jupyter-widgets/base",
            "overflow": null,
            "_model_module_version": "1.2.0",
            "_view_count": null,
            "flex_flow": null,
            "width": null,
            "min_width": null,
            "border": null,
            "align_items": null,
            "bottom": null,
            "_model_module": "@jupyter-widgets/base",
            "top": null,
            "grid_column": null,
            "overflow_y": null,
            "overflow_x": null,
            "grid_auto_flow": null,
            "grid_area": null,
            "grid_template_columns": null,
            "flex": null,
            "_model_name": "LayoutModel",
            "justify_items": null,
            "grid_row": null,
            "max_height": null,
            "align_content": null,
            "visibility": null,
            "align_self": null,
            "height": null,
            "min_height": null,
            "padding": null,
            "grid_auto_rows": null,
            "grid_gap": null,
            "max_width": null,
            "order": null,
            "_view_module_version": "1.2.0",
            "grid_template_areas": null,
            "object_position": null,
            "object_fit": null,
            "grid_auto_columns": null,
            "margin": null,
            "display": null,
            "left": null
          }
        },
        "a773b3b95cd04e2cae16d3fd6e5e3c87": {
          "model_module": "@jupyter-widgets/controls",
          "model_name": "FloatProgressModel",
          "state": {
            "_view_name": "ProgressView",
            "style": "IPY_MODEL_41d84180badc44b6aa427d11446d4b41",
            "_dom_classes": [],
            "description": "",
            "_model_name": "FloatProgressModel",
            "bar_style": "success",
            "max": 1,
            "_view_module": "@jupyter-widgets/controls",
            "_model_module_version": "1.5.0",
            "value": 1,
            "_view_count": null,
            "_view_module_version": "1.5.0",
            "orientation": "horizontal",
            "min": 0,
            "description_tooltip": null,
            "_model_module": "@jupyter-widgets/controls",
            "layout": "IPY_MODEL_a94548c8b57c4014adc165eb778e2046"
          }
        },
        "642ccf844d7044ddacbd788acc89b92e": {
          "model_module": "@jupyter-widgets/controls",
          "model_name": "HTMLModel",
          "state": {
            "_view_name": "HTMLView",
            "style": "IPY_MODEL_422a0e6509914643b6dd2efa86f8f352",
            "_dom_classes": [],
            "description": "",
            "_model_name": "HTMLModel",
            "placeholder": "​",
            "_view_module": "@jupyter-widgets/controls",
            "_model_module_version": "1.5.0",
            "value": " 999994/? [01:37&lt;00:00, 10273.14it/s]",
            "_view_count": null,
            "_view_module_version": "1.5.0",
            "description_tooltip": null,
            "_model_module": "@jupyter-widgets/controls",
            "layout": "IPY_MODEL_29af956ab1c94b3eae710333cd856796"
          }
        },
        "41d84180badc44b6aa427d11446d4b41": {
          "model_module": "@jupyter-widgets/controls",
          "model_name": "ProgressStyleModel",
          "state": {
            "_view_name": "StyleView",
            "_model_name": "ProgressStyleModel",
            "description_width": "initial",
            "_view_module": "@jupyter-widgets/base",
            "_model_module_version": "1.5.0",
            "_view_count": null,
            "_view_module_version": "1.2.0",
            "bar_color": null,
            "_model_module": "@jupyter-widgets/controls"
          }
        },
        "a94548c8b57c4014adc165eb778e2046": {
          "model_module": "@jupyter-widgets/base",
          "model_name": "LayoutModel",
          "state": {
            "_view_name": "LayoutView",
            "grid_template_rows": null,
            "right": null,
            "justify_content": null,
            "_view_module": "@jupyter-widgets/base",
            "overflow": null,
            "_model_module_version": "1.2.0",
            "_view_count": null,
            "flex_flow": null,
            "width": null,
            "min_width": null,
            "border": null,
            "align_items": null,
            "bottom": null,
            "_model_module": "@jupyter-widgets/base",
            "top": null,
            "grid_column": null,
            "overflow_y": null,
            "overflow_x": null,
            "grid_auto_flow": null,
            "grid_area": null,
            "grid_template_columns": null,
            "flex": null,
            "_model_name": "LayoutModel",
            "justify_items": null,
            "grid_row": null,
            "max_height": null,
            "align_content": null,
            "visibility": null,
            "align_self": null,
            "height": null,
            "min_height": null,
            "padding": null,
            "grid_auto_rows": null,
            "grid_gap": null,
            "max_width": null,
            "order": null,
            "_view_module_version": "1.2.0",
            "grid_template_areas": null,
            "object_position": null,
            "object_fit": null,
            "grid_auto_columns": null,
            "margin": null,
            "display": null,
            "left": null
          }
        },
        "422a0e6509914643b6dd2efa86f8f352": {
          "model_module": "@jupyter-widgets/controls",
          "model_name": "DescriptionStyleModel",
          "state": {
            "_view_name": "StyleView",
            "_model_name": "DescriptionStyleModel",
            "description_width": "",
            "_view_module": "@jupyter-widgets/base",
            "_model_module_version": "1.5.0",
            "_view_count": null,
            "_view_module_version": "1.2.0",
            "_model_module": "@jupyter-widgets/controls"
          }
        },
        "29af956ab1c94b3eae710333cd856796": {
          "model_module": "@jupyter-widgets/base",
          "model_name": "LayoutModel",
          "state": {
            "_view_name": "LayoutView",
            "grid_template_rows": null,
            "right": null,
            "justify_content": null,
            "_view_module": "@jupyter-widgets/base",
            "overflow": null,
            "_model_module_version": "1.2.0",
            "_view_count": null,
            "flex_flow": null,
            "width": null,
            "min_width": null,
            "border": null,
            "align_items": null,
            "bottom": null,
            "_model_module": "@jupyter-widgets/base",
            "top": null,
            "grid_column": null,
            "overflow_y": null,
            "overflow_x": null,
            "grid_auto_flow": null,
            "grid_area": null,
            "grid_template_columns": null,
            "flex": null,
            "_model_name": "LayoutModel",
            "justify_items": null,
            "grid_row": null,
            "max_height": null,
            "align_content": null,
            "visibility": null,
            "align_self": null,
            "height": null,
            "min_height": null,
            "padding": null,
            "grid_auto_rows": null,
            "grid_gap": null,
            "max_width": null,
            "order": null,
            "_view_module_version": "1.2.0",
            "grid_template_areas": null,
            "object_position": null,
            "object_fit": null,
            "grid_auto_columns": null,
            "margin": null,
            "display": null,
            "left": null
          }
        }
      }
    }
  },
  "cells": [
    {
      "cell_type": "code",
      "metadata": {
        "colab": {
          "base_uri": "https://localhost:8080/"
        },
        "id": "Vv8z4zMBXIY2",
        "outputId": "8d6c54a0-4f41-4665-b16c-16dcf340b906"
      },
      "source": [
        "from google.colab import drive\n",
        "drive.mount('/content/drive')"
      ],
      "execution_count": 1,
      "outputs": [
        {
          "output_type": "stream",
          "text": [
            "Mounted at /content/drive\n"
          ],
          "name": "stdout"
        }
      ]
    },
    {
      "cell_type": "code",
      "metadata": {
        "id": "oolG6g2MXWvu"
      },
      "source": [
        "import pandas as pd\n",
        "import numpy as np\n",
        "import matplotlib.pyplot as plt\n",
        "%matplotlib inline\n",
        "import seaborn as sns\n"
      ],
      "execution_count": 2,
      "outputs": []
    },
    {
      "cell_type": "code",
      "metadata": {
        "colab": {
          "base_uri": "https://localhost:8080/",
          "height": 313
        },
        "id": "jGTDJuijX2rm",
        "outputId": "91aecd58-f623-4aa7-bca5-ce2f3e8c69b2"
      },
      "source": [
        "df = pd.read_csv('/content/drive/MyDrive/k/NLP/capstone/Cleaned_data.csv',)\n",
        "df.head()"
      ],
      "execution_count": 3,
      "outputs": [
        {
          "output_type": "execute_result",
          "data": {
            "text/html": [
              "<div>\n",
              "<style scoped>\n",
              "    .dataframe tbody tr th:only-of-type {\n",
              "        vertical-align: middle;\n",
              "    }\n",
              "\n",
              "    .dataframe tbody tr th {\n",
              "        vertical-align: top;\n",
              "    }\n",
              "\n",
              "    .dataframe thead th {\n",
              "        text-align: right;\n",
              "    }\n",
              "</style>\n",
              "<table border=\"1\" class=\"dataframe\">\n",
              "  <thead>\n",
              "    <tr style=\"text-align: right;\">\n",
              "      <th></th>\n",
              "      <th>Unnamed: 0</th>\n",
              "      <th>Unnamed: 0.1</th>\n",
              "      <th>Short description</th>\n",
              "      <th>Description</th>\n",
              "      <th>Caller</th>\n",
              "      <th>Assignment group</th>\n",
              "      <th>SC + DC + Caller</th>\n",
              "      <th>Assignment RE-group</th>\n",
              "      <th>Cleaned</th>\n",
              "      <th>Length</th>\n",
              "      <th>Language</th>\n",
              "    </tr>\n",
              "  </thead>\n",
              "  <tbody>\n",
              "    <tr>\n",
              "      <th>0</th>\n",
              "      <td>0</td>\n",
              "      <td>0</td>\n",
              "      <td>login issue</td>\n",
              "      <td>-verified user details.(employee# &amp; manager na...</td>\n",
              "      <td>spxjnwir pjlcoqds</td>\n",
              "      <td>GRP_0</td>\n",
              "      <td>login issuespxjnwir pjlcoqds-verified user det...</td>\n",
              "      <td>GRP_0</td>\n",
              "      <td>login issue verify user detail employee manage...</td>\n",
              "      <td>36</td>\n",
              "      <td>en</td>\n",
              "    </tr>\n",
              "    <tr>\n",
              "      <th>1</th>\n",
              "      <td>1</td>\n",
              "      <td>1</td>\n",
              "      <td>outlook</td>\n",
              "      <td>\\r\\n\\r\\nreceived from: hmjdrvpb.komuaywn@gmail...</td>\n",
              "      <td>hmjdrvpb komuaywn</td>\n",
              "      <td>GRP_0</td>\n",
              "      <td>outlookhmjdrvpb komuaywn\\r\\n\\r\\nreceived from:...</td>\n",
              "      <td>GRP_0</td>\n",
              "      <td>outlook hello team meeting skype meeting appea...</td>\n",
              "      <td>24</td>\n",
              "      <td>en</td>\n",
              "    </tr>\n",
              "    <tr>\n",
              "      <th>2</th>\n",
              "      <td>2</td>\n",
              "      <td>2</td>\n",
              "      <td>cant log in to vpn</td>\n",
              "      <td>\\r\\n\\r\\nreceived from: eylqgodm.ybqkwiam@gmail...</td>\n",
              "      <td>eylqgodm ybqkwiam</td>\n",
              "      <td>GRP_0</td>\n",
              "      <td>cant log in to vpneylqgodm ybqkwiam\\r\\n\\r\\nrec...</td>\n",
              "      <td>GRP_0</td>\n",
              "      <td>log vpn log vpn good</td>\n",
              "      <td>12</td>\n",
              "      <td>en</td>\n",
              "    </tr>\n",
              "    <tr>\n",
              "      <th>3</th>\n",
              "      <td>3</td>\n",
              "      <td>3</td>\n",
              "      <td>unable to access hr_tool page</td>\n",
              "      <td>unable to access hr_tool page</td>\n",
              "      <td>xbkucsvz gcpydteq</td>\n",
              "      <td>GRP_0</td>\n",
              "      <td>xbkucsvz gcpydtequnable to access hr_tool page</td>\n",
              "      <td>GRP_0</td>\n",
              "      <td>unable access hr tool page</td>\n",
              "      <td>6</td>\n",
              "      <td>en</td>\n",
              "    </tr>\n",
              "    <tr>\n",
              "      <th>4</th>\n",
              "      <td>4</td>\n",
              "      <td>4</td>\n",
              "      <td>skype error</td>\n",
              "      <td>skype error</td>\n",
              "      <td>owlgqjme qhcozdfx</td>\n",
              "      <td>GRP_0</td>\n",
              "      <td>owlgqjme qhcozdfxskype error</td>\n",
              "      <td>GRP_0</td>\n",
              "      <td>skype error</td>\n",
              "      <td>2</td>\n",
              "      <td>en</td>\n",
              "    </tr>\n",
              "  </tbody>\n",
              "</table>\n",
              "</div>"
            ],
            "text/plain": [
              "   Unnamed: 0  Unnamed: 0.1  ... Length Language\n",
              "0           0             0  ...     36       en\n",
              "1           1             1  ...     24       en\n",
              "2           2             2  ...     12       en\n",
              "3           3             3  ...      6       en\n",
              "4           4             4  ...      2       en\n",
              "\n",
              "[5 rows x 11 columns]"
            ]
          },
          "metadata": {
            "tags": []
          },
          "execution_count": 3
        }
      ]
    },
    {
      "cell_type": "code",
      "metadata": {
        "colab": {
          "base_uri": "https://localhost:8080/"
        },
        "id": "81xWadj7TZzX",
        "outputId": "5fcfb09c-34d6-4dd4-b466-81de94993f0a"
      },
      "source": [
        "df.columns"
      ],
      "execution_count": 4,
      "outputs": [
        {
          "output_type": "execute_result",
          "data": {
            "text/plain": [
              "Index(['Unnamed: 0', 'Unnamed: 0.1', 'Short description', 'Description',\n",
              "       'Caller', 'Assignment group', 'SC + DC + Caller', 'Assignment RE-group',\n",
              "       'Cleaned', 'Length', 'Language'],\n",
              "      dtype='object')"
            ]
          },
          "metadata": {
            "tags": []
          },
          "execution_count": 4
        }
      ]
    },
    {
      "cell_type": "code",
      "metadata": {
        "id": "W5iBgqlfYZtA"
      },
      "source": [
        "df = df.drop(['Unnamed: 0','Unnamed: 0.1','Short description','Description','Caller','SC + DC + Caller'],axis=1)"
      ],
      "execution_count": 5,
      "outputs": []
    },
    {
      "cell_type": "code",
      "metadata": {
        "colab": {
          "base_uri": "https://localhost:8080/",
          "height": 106
        },
        "id": "IWvMhzY8ZfQP",
        "outputId": "454d6c60-32ae-48b0-ca3f-de5d8373c589"
      },
      "source": [
        "df.head(2)"
      ],
      "execution_count": 6,
      "outputs": [
        {
          "output_type": "execute_result",
          "data": {
            "text/html": [
              "<div>\n",
              "<style scoped>\n",
              "    .dataframe tbody tr th:only-of-type {\n",
              "        vertical-align: middle;\n",
              "    }\n",
              "\n",
              "    .dataframe tbody tr th {\n",
              "        vertical-align: top;\n",
              "    }\n",
              "\n",
              "    .dataframe thead th {\n",
              "        text-align: right;\n",
              "    }\n",
              "</style>\n",
              "<table border=\"1\" class=\"dataframe\">\n",
              "  <thead>\n",
              "    <tr style=\"text-align: right;\">\n",
              "      <th></th>\n",
              "      <th>Assignment group</th>\n",
              "      <th>Assignment RE-group</th>\n",
              "      <th>Cleaned</th>\n",
              "      <th>Length</th>\n",
              "      <th>Language</th>\n",
              "    </tr>\n",
              "  </thead>\n",
              "  <tbody>\n",
              "    <tr>\n",
              "      <th>0</th>\n",
              "      <td>GRP_0</td>\n",
              "      <td>GRP_0</td>\n",
              "      <td>login issue verify user detail employee manage...</td>\n",
              "      <td>36</td>\n",
              "      <td>en</td>\n",
              "    </tr>\n",
              "    <tr>\n",
              "      <th>1</th>\n",
              "      <td>GRP_0</td>\n",
              "      <td>GRP_0</td>\n",
              "      <td>outlook hello team meeting skype meeting appea...</td>\n",
              "      <td>24</td>\n",
              "      <td>en</td>\n",
              "    </tr>\n",
              "  </tbody>\n",
              "</table>\n",
              "</div>"
            ],
            "text/plain": [
              "  Assignment group Assignment RE-group  ... Length  Language\n",
              "0            GRP_0               GRP_0  ...     36        en\n",
              "1            GRP_0               GRP_0  ...     24        en\n",
              "\n",
              "[2 rows x 5 columns]"
            ]
          },
          "metadata": {
            "tags": []
          },
          "execution_count": 6
        }
      ]
    },
    {
      "cell_type": "code",
      "metadata": {
        "colab": {
          "base_uri": "https://localhost:8080/"
        },
        "id": "A4EuatblPtbn",
        "outputId": "51ae8585-e0ac-4c0f-ddc7-063abdfd0c95"
      },
      "source": [
        "# Selecting the Groups having more than 100 Indiviual records\n",
        "Counts = pd.DataFrame(df['Assignment group'].value_counts())\n",
        "Others = []\n",
        "for Group in df['Assignment group'].unique():\n",
        "    if Counts.loc[Group][0] < 200:\n",
        "        Others.append(Group)\n",
        "print('{0} Groups in dataset have less than 200 samples'.format(len(Others)))\n",
        "\n",
        "df['Assignment RE-group'] =df['Assignment group'].apply(lambda x: 'Others' if x in Others else x)"
      ],
      "execution_count": 7,
      "outputs": [
        {
          "output_type": "stream",
          "text": [
            "66 Groups in dataset have less than 200 samples\n"
          ],
          "name": "stdout"
        }
      ]
    },
    {
      "cell_type": "code",
      "metadata": {
        "colab": {
          "base_uri": "https://localhost:8080/",
          "height": 322
        },
        "id": "V_BHSXB4Qy_6",
        "outputId": "e6f0f7e8-1048-4c82-aee3-d5512709f01c"
      },
      "source": [
        "# Visualising the Distribution after re-classifing the groups in 'Others'.\n",
        "plt.subplots(figsize=(22,5))\n",
        "descending_order = df['Assignment RE-group'].value_counts().sort_values(ascending=False).index\n",
        "ax=sns.countplot(x='Assignment RE-group', data=df, color='royalblue',order=descending_order)\n",
        "ax.set_xticklabels(ax.get_xticklabels(), rotation=45, ha=\"right\")\n",
        "plt.tight_layout()\n",
        "plt.show()"
      ],
      "execution_count": 8,
      "outputs": [
        {
          "output_type": "display_data",
          "data": {
            "image/png": "[encoded data removed]",
            "text/plain": [
              "<Figure size 1584x360 with 1 Axes>"
            ]
          },
          "metadata": {
            "tags": [],
            "needs_background": "light"
          }
        }
      ]
    },
    {
      "cell_type": "code",
      "metadata": {
        "colab": {
          "base_uri": "https://localhost:8080/"
        },
        "id": "kT7eKk1mNq-U",
        "outputId": "b388565f-6166-4ecc-8db9-993d9320b555"
      },
      "source": [
        "df.shape"
      ],
      "execution_count": 9,
      "outputs": [
        {
          "output_type": "execute_result",
          "data": {
            "text/plain": [
              "(8437, 5)"
            ]
          },
          "metadata": {
            "tags": []
          },
          "execution_count": 9
        }
      ]
    },
    {
      "cell_type": "code",
      "metadata": {
        "id": "mYaWiYuP4Muo"
      },
      "source": [
        "df1 = df.copy()"
      ],
      "execution_count": 10,
      "outputs": []
    },
    {
      "cell_type": "code",
      "metadata": {
        "id": "c0Mwd9zaNoOj"
      },
      "source": [
        "# df1 = df.drop_duplicates(subset = 'Cleaned',keep = 'first')\n",
        "# df1.shape"
      ],
      "execution_count": 11,
      "outputs": []
    },
    {
      "cell_type": "code",
      "metadata": {
        "colab": {
          "base_uri": "https://localhost:8080/"
        },
        "id": "gdhb2O4aZnx8",
        "outputId": "259a06c5-30d9-47ef-daf1-ffc5812126c2"
      },
      "source": [
        "df.columns"
      ],
      "execution_count": 12,
      "outputs": [
        {
          "output_type": "execute_result",
          "data": {
            "text/plain": [
              "Index(['Assignment group', 'Assignment RE-group', 'Cleaned', 'Length',\n",
              "       'Language'],\n",
              "      dtype='object')"
            ]
          },
          "metadata": {
            "tags": []
          },
          "execution_count": 12
        }
      ]
    },
    {
      "cell_type": "code",
      "metadata": {
        "colab": {
          "base_uri": "https://localhost:8080/"
        },
        "id": "IOlfIo_7fQJ5",
        "outputId": "0cdf4849-ed1e-47c9-b74c-c2060a3458f4"
      },
      "source": [
        "df['Assignment group'].unique()"
      ],
      "execution_count": 13,
      "outputs": [
        {
          "output_type": "execute_result",
          "data": {
            "text/plain": [
              "array(['GRP_0', 'GRP_1', 'GRP_3', 'GRP_4', 'GRP_5', 'GRP_6', 'GRP_7',\n",
              "       'GRP_8', 'GRP_9', 'GRP_10', 'GRP_11', 'GRP_12', 'GRP_13', 'GRP_14',\n",
              "       'GRP_15', 'GRP_16', 'GRP_17', 'GRP_18', 'GRP_19', 'GRP_2',\n",
              "       'GRP_20', 'GRP_21', 'GRP_22', 'GRP_23', 'GRP_24', 'GRP_25',\n",
              "       'GRP_26', 'GRP_27', 'GRP_28', 'GRP_29', 'GRP_30', 'GRP_31',\n",
              "       'GRP_33', 'GRP_34', 'GRP_35', 'GRP_36', 'GRP_37', 'GRP_38',\n",
              "       'GRP_39', 'GRP_40', 'GRP_41', 'GRP_42', 'GRP_43', 'GRP_44',\n",
              "       'GRP_45', 'GRP_46', 'GRP_47', 'GRP_49', 'GRP_50', 'GRP_51',\n",
              "       'GRP_52', 'GRP_53', 'GRP_54', 'GRP_55', 'GRP_48', 'GRP_56',\n",
              "       'GRP_57', 'GRP_58', 'GRP_59', 'GRP_60', 'GRP_61', 'GRP_32',\n",
              "       'GRP_62', 'GRP_63', 'GRP_64', 'GRP_65', 'GRP_66', 'GRP_67',\n",
              "       'GRP_68', 'GRP_69', 'GRP_70', 'GRP_71', 'GRP_72', 'GRP_73'],\n",
              "      dtype=object)"
            ]
          },
          "metadata": {
            "tags": []
          },
          "execution_count": 13
        }
      ]
    },
    {
      "cell_type": "code",
      "metadata": {
        "colab": {
          "base_uri": "https://localhost:8080/"
        },
        "id": "jN-ARbq3fTua",
        "outputId": "876df0ef-897f-46e6-b6ea-157f93a0a5bd"
      },
      "source": [
        "df['Assignment RE-group'].unique()"
      ],
      "execution_count": 14,
      "outputs": [
        {
          "output_type": "execute_result",
          "data": {
            "text/plain": [
              "array(['GRP_0', 'Others', 'GRP_3', 'GRP_8', 'GRP_9', 'GRP_12', 'GRP_19',\n",
              "       'GRP_2', 'GRP_24'], dtype=object)"
            ]
          },
          "metadata": {
            "tags": []
          },
          "execution_count": 14
        }
      ]
    },
    {
      "cell_type": "code",
      "metadata": {
        "colab": {
          "base_uri": "https://localhost:8080/"
        },
        "id": "g7YQmxDP0_ub",
        "outputId": "d3ee086c-2244-4e24-b117-ea58595a02be"
      },
      "source": [
        "df1[df1['Language'] != 'en'].shape"
      ],
      "execution_count": 15,
      "outputs": [
        {
          "output_type": "execute_result",
          "data": {
            "text/plain": [
              "(657, 5)"
            ]
          },
          "metadata": {
            "tags": []
          },
          "execution_count": 15
        }
      ]
    },
    {
      "cell_type": "code",
      "metadata": {
        "colab": {
          "base_uri": "https://localhost:8080/"
        },
        "id": "PnlvVB41geeK",
        "outputId": "f9417f6f-a5a4-4ce2-d5d8-7873c351fe4a"
      },
      "source": [
        "df1 = df1[df1['Language'] == 'en']\n",
        "df1.shape"
      ],
      "execution_count": 16,
      "outputs": [
        {
          "output_type": "execute_result",
          "data": {
            "text/plain": [
              "(7780, 5)"
            ]
          },
          "metadata": {
            "tags": []
          },
          "execution_count": 16
        }
      ]
    },
    {
      "cell_type": "code",
      "metadata": {
        "colab": {
          "base_uri": "https://localhost:8080/"
        },
        "id": "vjErzrkkcgGz",
        "outputId": "1e1672ec-d775-4af9-e0c8-851f87f86f78"
      },
      "source": [
        "df1 = df1[df1['Assignment RE-group'] != 'Others']\n",
        "df1.shape"
      ],
      "execution_count": 17,
      "outputs": [
        {
          "output_type": "execute_result",
          "data": {
            "text/plain": [
              "(5668, 5)"
            ]
          },
          "metadata": {
            "tags": []
          },
          "execution_count": 17
        }
      ]
    },
    {
      "cell_type": "code",
      "metadata": {
        "colab": {
          "base_uri": "https://localhost:8080/"
        },
        "id": "YnaCfPFGgJ-A",
        "outputId": "c8c07581-8c79-4eed-b614-67aaccf66e6e"
      },
      "source": [
        "labels_ = df1['Assignment RE-group'].unique()\n",
        "print(labels_)\n",
        "print(df1['Assignment RE-group'].nunique())"
      ],
      "execution_count": 18,
      "outputs": [
        {
          "output_type": "stream",
          "text": [
            "['GRP_0' 'GRP_3' 'GRP_8' 'GRP_9' 'GRP_12' 'GRP_19' 'GRP_2' 'GRP_24']\n",
            "8\n"
          ],
          "name": "stdout"
        }
      ]
    },
    {
      "cell_type": "code",
      "metadata": {
        "colab": {
          "base_uri": "https://localhost:8080/"
        },
        "id": "3RsqiGs3wQeU",
        "outputId": "0e805fd9-7e03-453a-d68d-dce77e5c8ff0"
      },
      "source": [
        "df1['Length'].describe()"
      ],
      "execution_count": 19,
      "outputs": [
        {
          "output_type": "execute_result",
          "data": {
            "text/plain": [
              "count    5668.000000\n",
              "mean       26.556104\n",
              "std        54.662342\n",
              "min         2.000000\n",
              "25%         5.000000\n",
              "50%        14.000000\n",
              "75%        29.000000\n",
              "max      1033.000000\n",
              "Name: Length, dtype: float64"
            ]
          },
          "metadata": {
            "tags": []
          },
          "execution_count": 19
        }
      ]
    },
    {
      "cell_type": "code",
      "metadata": {
        "id": "1y2r39qzaafH"
      },
      "source": [
        "from tensorflow.keras.preprocessing.text import Tokenizer\n",
        "from tensorflow.keras.preprocessing.sequence import pad_sequences\n",
        "\n",
        "tokenizer = Tokenizer(num_words = 10000,split = ' ')\n",
        "tokenizer.fit_on_texts(df1['Cleaned'].values)"
      ],
      "execution_count": 20,
      "outputs": []
    },
    {
      "cell_type": "code",
      "metadata": {
        "id": "U8An9SngdZIJ"
      },
      "source": [
        "X = tokenizer.texts_to_sequences(df1['Cleaned'].values)\n",
        "y = np.array(df1['Assignment RE-group'])"
      ],
      "execution_count": 21,
      "outputs": []
    },
    {
      "cell_type": "code",
      "metadata": {
        "id": "NL5D9AAaggyU"
      },
      "source": [
        "max_len = 30\n",
        "X = pad_sequences(X,maxlen= max_len)"
      ],
      "execution_count": 22,
      "outputs": []
    },
    {
      "cell_type": "code",
      "metadata": {
        "id": "lBUtLGbqhXLI"
      },
      "source": [
        "from sklearn.preprocessing import LabelEncoder\n",
        "\n",
        "label_encoder = LabelEncoder()\n",
        "y = label_encoder.fit_transform(y)"
      ],
      "execution_count": 23,
      "outputs": []
    },
    {
      "cell_type": "code",
      "metadata": {
        "id": "JR-AcHeWf4OY"
      },
      "source": [
        "from tensorflow.keras.utils import to_categorical\n",
        "\n",
        "y = to_categorical(y, num_classes = 8)"
      ],
      "execution_count": 24,
      "outputs": []
    },
    {
      "cell_type": "code",
      "metadata": {
        "id": "SFXAMjx-g7HW"
      },
      "source": [
        "from sklearn.model_selection import train_test_split\n",
        "\n",
        "x_train,x_test,y_train,y_test = train_test_split(X,y,test_size = 0.2,random_state = 0)"
      ],
      "execution_count": 25,
      "outputs": []
    },
    {
      "cell_type": "code",
      "metadata": {
        "colab": {
          "base_uri": "https://localhost:8080/"
        },
        "id": "hmV0KZrvTxfi",
        "outputId": "3ecc5722-bbb3-4aa7-e0ed-29451190f395"
      },
      "source": [
        "print(x_train.shape,y_test.shape)"
      ],
      "execution_count": 26,
      "outputs": [
        {
          "output_type": "stream",
          "text": [
            "(4534, 30) (1134, 8)\n"
          ],
          "name": "stdout"
        }
      ]
    },
    {
      "cell_type": "markdown",
      "metadata": {
        "id": "mny_AmXNdLbU"
      },
      "source": [
        "# GLOVE Embeddings"
      ]
    },
    {
      "cell_type": "code",
      "metadata": {
        "colab": {
          "base_uri": "https://localhost:8080/"
        },
        "id": "s_GC9PiZi14S",
        "outputId": "973b7ca9-5f03-4c7c-f13b-5cedccf81a36"
      },
      "source": [
        "vocab_len = len(tokenizer.word_index)+1\n",
        "print(vocab_len)\n",
        "embedding_size = 50"
      ],
      "execution_count": 27,
      "outputs": [
        {
          "output_type": "stream",
          "text": [
            "6579\n"
          ],
          "name": "stdout"
        }
      ]
    },
    {
      "cell_type": "code",
      "metadata": {
        "id": "boWn1FYNiHgM"
      },
      "source": [
        "Embedding_file = '/content/drive/MyDrive/k/NLP/capstone/glove.6B.50d.txt'\n",
        "\n",
        "embedding_dict = {}\n",
        "f = open(Embedding_file)\n",
        "for line in f:\n",
        "  values = line.split()\n",
        "  word = values[0]\n",
        "  vector = np.asarray(values[1:],dtype = 'float32')\n",
        "  embedding_dict[word] = vector\n",
        "\n",
        "# create a weight matrix for words in training docs\n",
        "embedding_matrix = np.zeros((vocab_len, embedding_size))\n",
        "\n",
        "for word,i in tokenizer.word_index.items():\n",
        "  embedding_vector = embedding_dict.get(word)\n",
        "  if embedding_vector is not None:\n",
        "    embedding_matrix[i] = embedding_vector"
      ],
      "execution_count": 28,
      "outputs": []
    },
    {
      "cell_type": "code",
      "metadata": {
        "colab": {
          "base_uri": "https://localhost:8080/"
        },
        "id": "50_6qHmvkAtL",
        "outputId": "5f6677dd-b965-4f6c-9b3f-de9186167eb8"
      },
      "source": [
        "embedding_matrix.shape"
      ],
      "execution_count": 29,
      "outputs": [
        {
          "output_type": "execute_result",
          "data": {
            "text/plain": [
              "(6579, 50)"
            ]
          },
          "metadata": {
            "tags": []
          },
          "execution_count": 29
        }
      ]
    },
    {
      "cell_type": "code",
      "metadata": {
        "colab": {
          "base_uri": "https://localhost:8080/"
        },
        "id": "B9NUvioRCMUg",
        "outputId": "b982a64e-aaa5-4d1e-d28c-7d815a80d6f7"
      },
      "source": [
        "print(x_train.shape,y_train.shape)"
      ],
      "execution_count": 30,
      "outputs": [
        {
          "output_type": "stream",
          "text": [
            "(4534, 30) (4534, 8)\n"
          ],
          "name": "stdout"
        }
      ]
    },
    {
      "cell_type": "code",
      "metadata": {
        "id": "DYnhAP9YG3zd"
      },
      "source": [
        "y_train_labels = np.argmax(y_train,axis=1)"
      ],
      "execution_count": 31,
      "outputs": []
    },
    {
      "cell_type": "code",
      "metadata": {
        "colab": {
          "base_uri": "https://localhost:8080/"
        },
        "id": "pjBXkQwJ-Dgp",
        "outputId": "2c2d24a7-481d-4b07-dbeb-dcd5ed5c36f9"
      },
      "source": [
        "y_train.shape"
      ],
      "execution_count": 32,
      "outputs": [
        {
          "output_type": "execute_result",
          "data": {
            "text/plain": [
              "(4534, 8)"
            ]
          },
          "metadata": {
            "tags": []
          },
          "execution_count": 32
        }
      ]
    },
    {
      "cell_type": "code",
      "metadata": {
        "colab": {
          "base_uri": "https://localhost:8080/"
        },
        "id": "clmWOsyo9YOB",
        "outputId": "ad2eff65-94f0-481d-8244-1e8aa95893d0"
      },
      "source": [
        "y_train_labels.shape"
      ],
      "execution_count": 33,
      "outputs": [
        {
          "output_type": "execute_result",
          "data": {
            "text/plain": [
              "(4534,)"
            ]
          },
          "metadata": {
            "tags": []
          },
          "execution_count": 33
        }
      ]
    },
    {
      "cell_type": "code",
      "metadata": {
        "id": "lhYdNbe_J8Kh",
        "colab": {
          "base_uri": "https://localhost:8080/"
        },
        "outputId": "b3584c5c-656c-4e20-d79c-74c7ee273eee"
      },
      "source": [
        "np.unique(y_train_labels)"
      ],
      "execution_count": 34,
      "outputs": [
        {
          "output_type": "execute_result",
          "data": {
            "text/plain": [
              "array([0, 1, 2, 3, 4, 5, 6, 7])"
            ]
          },
          "metadata": {
            "tags": []
          },
          "execution_count": 34
        }
      ]
    },
    {
      "cell_type": "code",
      "metadata": {
        "id": "jyY0gM3MEjlX"
      },
      "source": [
        "from sklearn.utils import class_weight\n",
        "cw = class_weight.compute_class_weight(class_weight='balanced',classes = np.unique(y_train_labels),y = y_train_labels,)"
      ],
      "execution_count": 35,
      "outputs": []
    },
    {
      "cell_type": "code",
      "metadata": {
        "id": "_lrU-ZkWL8o8",
        "colab": {
          "base_uri": "https://localhost:8080/"
        },
        "outputId": "13ce1c1b-b75b-4e29-b3b4-f363605b8e42"
      },
      "source": [
        "cw"
      ],
      "execution_count": 36,
      "outputs": [
        {
          "output_type": "execute_result",
          "data": {
            "text/plain": [
              "array([0.18288157, 3.13121547, 3.3735119 , 3.16620112, 7.87152778,\n",
              "       3.52018634, 1.13577154, 3.23857143])"
            ]
          },
          "metadata": {
            "tags": []
          },
          "execution_count": 36
        }
      ]
    },
    {
      "cell_type": "code",
      "metadata": {
        "id": "1u2XU4HPKU2e"
      },
      "source": [
        "weights = dict()\n",
        "for i in range(8):\n",
        "  weights[i] = cw[i]"
      ],
      "execution_count": 37,
      "outputs": []
    },
    {
      "cell_type": "code",
      "metadata": {
        "id": "oRViYeikKXe2",
        "colab": {
          "base_uri": "https://localhost:8080/"
        },
        "outputId": "1ba167e0-181a-45ef-9a3f-aaea1f80d738"
      },
      "source": [
        "weights"
      ],
      "execution_count": 38,
      "outputs": [
        {
          "output_type": "execute_result",
          "data": {
            "text/plain": [
              "{0: 0.1828815747015166,\n",
              " 1: 3.1312154696132595,\n",
              " 2: 3.3735119047619047,\n",
              " 3: 3.166201117318436,\n",
              " 4: 7.871527777777778,\n",
              " 5: 3.520186335403727,\n",
              " 6: 1.1357715430861723,\n",
              " 7: 3.2385714285714284}"
            ]
          },
          "metadata": {
            "tags": []
          },
          "execution_count": 38
        }
      ]
    },
    {
      "cell_type": "code",
      "metadata": {
        "id": "uPcja_xsjFPq"
      },
      "source": [
        "from tensorflow.keras.layers import LSTM,Embedding,Dense,Dropout,Flatten,Bidirectional,GRU\n",
        "from tensorflow.keras.models import Sequential\n",
        "from tensorflow.keras import optimizers"
      ],
      "execution_count": 39,
      "outputs": []
    },
    {
      "cell_type": "code",
      "metadata": {
        "colab": {
          "base_uri": "https://localhost:8080/"
        },
        "id": "fKRdBCR7jSSM",
        "outputId": "9ded6d50-299e-4dd0-e8d4-458d74131343"
      },
      "source": [
        "model = Sequential()\n",
        "model.add(Embedding(input_dim = vocab_len,output_dim = embedding_size,input_length = max_len, weights = [embedding_matrix], trainable = False))\n",
        "model.add(Bidirectional(GRU(50)))\n",
        "model.add(Flatten())\n",
        "model.add(Dense(128,activation='relu'))\n",
        "model.add(Dense(32,activation='relu'))\n",
        "model.add(Dense(8,activation='softmax'))\n",
        "model.summary()"
      ],
      "execution_count": 40,
      "outputs": [
        {
          "output_type": "stream",
          "text": [
            "Model: \"sequential\"\n",
            "_________________________________________________________________\n",
            "Layer (type)                 Output Shape              Param #   \n",
            "=================================================================\n",
            "embedding (Embedding)        (None, 30, 50)            328950    \n",
            "_________________________________________________________________\n",
            "bidirectional (Bidirectional (None, 100)               30600     \n",
            "_________________________________________________________________\n",
            "flatten (Flatten)            (None, 100)               0         \n",
            "_________________________________________________________________\n",
            "dense (Dense)                (None, 128)               12928     \n",
            "_________________________________________________________________\n",
            "dense_1 (Dense)              (None, 32)                4128      \n",
            "_________________________________________________________________\n",
            "dense_2 (Dense)              (None, 8)                 264       \n",
            "=================================================================\n",
            "Total params: 376,870\n",
            "Trainable params: 47,920\n",
            "Non-trainable params: 328,950\n",
            "_________________________________________________________________\n"
          ],
          "name": "stdout"
        }
      ]
    },
    {
      "cell_type": "code",
      "metadata": {
        "id": "D9z0mhp5kZpM"
      },
      "source": [
        "sgd = optimizers.SGD(learning_rate=0.001,momentum=0.9)\n",
        "adam = optimizers.Adam()\n",
        "\n",
        "model.compile(loss = 'categorical_crossentropy', optimizer = adam, metrics= ['accuracy'])"
      ],
      "execution_count": 41,
      "outputs": []
    },
    {
      "cell_type": "code",
      "metadata": {
        "id": "tIjMTjOq5k9R"
      },
      "source": [
        "# from tensorflow.keras.callbacks import ReduceLROnPlateau,EarlyStopping\n",
        "\n",
        "# early_stop = EarlyStopping(monitor='val_loss',patience=3)\n",
        "# reduc = ReduceLROnPlateau(monitor='val_loss',patience=4,factor=0.5)"
      ],
      "execution_count": 42,
      "outputs": []
    },
    {
      "cell_type": "code",
      "metadata": {
        "colab": {
          "base_uri": "https://localhost:8080/"
        },
        "id": "NNrgSMAckvub",
        "outputId": "d3793947-f834-47eb-b3bb-5d5a7b938ee7"
      },
      "source": [
        "model.fit(x_train,y_train,epochs=20,batch_size=16,validation_data=(x_test,y_test))"
      ],
      "execution_count": 43,
      "outputs": [
        {
          "output_type": "stream",
          "text": [
            "Epoch 1/20\n",
            "284/284 [==============================] - 11s 25ms/step - loss: 1.1004 - accuracy: 0.7285 - val_loss: 0.8285 - val_accuracy: 0.7637\n",
            "Epoch 2/20\n",
            "284/284 [==============================] - 6s 21ms/step - loss: 0.6938 - accuracy: 0.7912 - val_loss: 0.7031 - val_accuracy: 0.7875\n",
            "Epoch 3/20\n",
            "284/284 [==============================] - 6s 20ms/step - loss: 0.5761 - accuracy: 0.8213 - val_loss: 0.6462 - val_accuracy: 0.7945\n",
            "Epoch 4/20\n",
            "284/284 [==============================] - 6s 21ms/step - loss: 0.4934 - accuracy: 0.8274 - val_loss: 0.6329 - val_accuracy: 0.8034\n",
            "Epoch 5/20\n",
            "284/284 [==============================] - 6s 21ms/step - loss: 0.4254 - accuracy: 0.8545 - val_loss: 0.6334 - val_accuracy: 0.7963\n",
            "Epoch 6/20\n",
            "284/284 [==============================] - 6s 21ms/step - loss: 0.3821 - accuracy: 0.8727 - val_loss: 0.6376 - val_accuracy: 0.7937\n",
            "Epoch 7/20\n",
            "284/284 [==============================] - 6s 21ms/step - loss: 0.3278 - accuracy: 0.8844 - val_loss: 0.6447 - val_accuracy: 0.7866\n",
            "Epoch 8/20\n",
            "284/284 [==============================] - 6s 21ms/step - loss: 0.3006 - accuracy: 0.8971 - val_loss: 0.6574 - val_accuracy: 0.8095\n",
            "Epoch 9/20\n",
            "284/284 [==============================] - 6s 21ms/step - loss: 0.2560 - accuracy: 0.9079 - val_loss: 0.7065 - val_accuracy: 0.7954\n",
            "Epoch 10/20\n",
            "284/284 [==============================] - 6s 21ms/step - loss: 0.2176 - accuracy: 0.9194 - val_loss: 0.7628 - val_accuracy: 0.8051\n",
            "Epoch 11/20\n",
            "284/284 [==============================] - 6s 21ms/step - loss: 0.2071 - accuracy: 0.9220 - val_loss: 0.8136 - val_accuracy: 0.7857\n",
            "Epoch 12/20\n",
            "284/284 [==============================] - 6s 21ms/step - loss: 0.1638 - accuracy: 0.9362 - val_loss: 0.8454 - val_accuracy: 0.7972\n",
            "Epoch 13/20\n",
            "284/284 [==============================] - 6s 21ms/step - loss: 0.1336 - accuracy: 0.9518 - val_loss: 0.8499 - val_accuracy: 0.7848\n",
            "Epoch 14/20\n",
            "284/284 [==============================] - 6s 21ms/step - loss: 0.1144 - accuracy: 0.9552 - val_loss: 1.0146 - val_accuracy: 0.8025\n",
            "Epoch 15/20\n",
            "284/284 [==============================] - 6s 21ms/step - loss: 0.1125 - accuracy: 0.9558 - val_loss: 1.0916 - val_accuracy: 0.7910\n",
            "Epoch 16/20\n",
            "284/284 [==============================] - 6s 21ms/step - loss: 0.1022 - accuracy: 0.9578 - val_loss: 1.0894 - val_accuracy: 0.7945\n",
            "Epoch 17/20\n",
            "284/284 [==============================] - 6s 21ms/step - loss: 0.0849 - accuracy: 0.9613 - val_loss: 1.1549 - val_accuracy: 0.7848\n",
            "Epoch 18/20\n",
            "284/284 [==============================] - 6s 21ms/step - loss: 0.1221 - accuracy: 0.9511 - val_loss: 1.0745 - val_accuracy: 0.7831\n",
            "Epoch 19/20\n",
            "284/284 [==============================] - 6s 21ms/step - loss: 0.0958 - accuracy: 0.9615 - val_loss: 1.1040 - val_accuracy: 0.8016\n",
            "Epoch 20/20\n",
            "284/284 [==============================] - 6s 21ms/step - loss: 0.0676 - accuracy: 0.9752 - val_loss: 1.1849 - val_accuracy: 0.7804\n"
          ],
          "name": "stdout"
        },
        {
          "output_type": "execute_result",
          "data": {
            "text/plain": [
              "<tensorflow.python.keras.callbacks.History at 0x7f9f9787df50>"
            ]
          },
          "metadata": {
            "tags": []
          },
          "execution_count": 43
        }
      ]
    },
    {
      "cell_type": "code",
      "metadata": {
        "colab": {
          "base_uri": "https://localhost:8080/"
        },
        "id": "meBN6JTLJNHS",
        "outputId": "383cb0e1-0f9f-4901-8cdd-4a30114c88ef"
      },
      "source": [
        "model.evaluate(x_test,y_test)"
      ],
      "execution_count": 44,
      "outputs": [
        {
          "output_type": "stream",
          "text": [
            "36/36 [==============================] - 0s 6ms/step - loss: 1.1849 - accuracy: 0.7804\n"
          ],
          "name": "stdout"
        },
        {
          "output_type": "execute_result",
          "data": {
            "text/plain": [
              "[1.1848772764205933, 0.7804232835769653]"
            ]
          },
          "metadata": {
            "tags": []
          },
          "execution_count": 44
        }
      ]
    },
    {
      "cell_type": "code",
      "metadata": {
        "id": "WoC63PPfk9UB"
      },
      "source": [
        "from sklearn.metrics import confusion_matrix"
      ],
      "execution_count": 45,
      "outputs": []
    },
    {
      "cell_type": "code",
      "metadata": {
        "id": "oaAvASiojITD"
      },
      "source": [
        "predicted_labels = model.predict(x_test)"
      ],
      "execution_count": 46,
      "outputs": []
    },
    {
      "cell_type": "code",
      "metadata": {
        "id": "-YvA5iU0jrU5"
      },
      "source": [
        "y_pred = np.where(predicted_labels>0.5,1,0)"
      ],
      "execution_count": 47,
      "outputs": []
    },
    {
      "cell_type": "code",
      "metadata": {
        "colab": {
          "base_uri": "https://localhost:8080/"
        },
        "id": "87iPodw8kfq-",
        "outputId": "09d19e27-3966-4089-b7d9-401717684a8b"
      },
      "source": [
        "y_test[0]"
      ],
      "execution_count": 48,
      "outputs": [
        {
          "output_type": "execute_result",
          "data": {
            "text/plain": [
              "array([0., 0., 0., 1., 0., 0., 0., 0.], dtype=float32)"
            ]
          },
          "metadata": {
            "tags": []
          },
          "execution_count": 48
        }
      ]
    },
    {
      "cell_type": "code",
      "metadata": {
        "colab": {
          "base_uri": "https://localhost:8080/"
        },
        "id": "1cTPWFj_mddp",
        "outputId": "0230711e-ca61-4478-f50f-3181d9c23878"
      },
      "source": [
        "y_pred[0]"
      ],
      "execution_count": 49,
      "outputs": [
        {
          "output_type": "execute_result",
          "data": {
            "text/plain": [
              "array([1, 0, 0, 0, 0, 0, 0, 0])"
            ]
          },
          "metadata": {
            "tags": []
          },
          "execution_count": 49
        }
      ]
    },
    {
      "cell_type": "code",
      "metadata": {
        "id": "ASde8vzxjIN7"
      },
      "source": [
        "cm = confusion_matrix(y_test.argmax(axis=1),y_pred.argmax(axis=1))"
      ],
      "execution_count": 50,
      "outputs": []
    },
    {
      "cell_type": "code",
      "metadata": {
        "colab": {
          "base_uri": "https://localhost:8080/",
          "height": 501
        },
        "id": "Jye8LHUQ8dQ4",
        "outputId": "df29d7a0-a571-4638-bd0d-052f2d747f87"
      },
      "source": [
        "plt.figure(figsize=(8,8))\n",
        "sns.heatmap(cm,annot=True,xticklabels=labels_,yticklabels=labels_,fmt='.4g',cmap='gist_earth')"
      ],
      "execution_count": 51,
      "outputs": [
        {
          "output_type": "execute_result",
          "data": {
            "text/plain": [
              "<matplotlib.axes._subplots.AxesSubplot at 0x7f9f9bad3dd0>"
            ]
          },
          "metadata": {
            "tags": []
          },
          "execution_count": 51
        },
        {
          "output_type": "display_data",
          "data": {
            "image/png": "[encoded data removed]",
            "text/plain": [
              "<Figure size 576x576 with 2 Axes>"
            ]
          },
          "metadata": {
            "tags": [],
            "needs_background": "light"
          }
        }
      ]
    },
    {
      "cell_type": "code",
      "metadata": {
        "colab": {
          "base_uri": "https://localhost:8080/"
        },
        "id": "5BKQkW4vr1U2",
        "outputId": "4d7ea9ef-109e-4b57-a388-103daeb831f5"
      },
      "source": [
        "df1['Assignment RE-group'].value_counts()"
      ],
      "execution_count": 52,
      "outputs": [
        {
          "output_type": "execute_result",
          "data": {
            "text/plain": [
              "GRP_0     3847\n",
              "GRP_8      629\n",
              "GRP_2      239\n",
              "GRP_12     229\n",
              "GRP_9      221\n",
              "GRP_19     214\n",
              "GRP_3      200\n",
              "GRP_24      89\n",
              "Name: Assignment RE-group, dtype: int64"
            ]
          },
          "metadata": {
            "tags": []
          },
          "execution_count": 52
        }
      ]
    },
    {
      "cell_type": "code",
      "metadata": {
        "colab": {
          "base_uri": "https://localhost:8080/"
        },
        "id": "gILSOawGs4DT",
        "outputId": "af089616-48e3-458f-f4c3-34d1eea2aa75"
      },
      "source": [
        "count = 0\n",
        "for i in range(y_test.shape[0]):\n",
        "  if y_train[i][0] == 1.0:\n",
        "    count +=1\n",
        "print(count)"
      ],
      "execution_count": 53,
      "outputs": [
        {
          "output_type": "stream",
          "text": [
            "769\n"
          ],
          "name": "stdout"
        }
      ]
    },
    {
      "cell_type": "code",
      "metadata": {
        "id": "tL74RhpGwrY4"
      },
      "source": [
        ""
      ],
      "execution_count": 53,
      "outputs": []
    },
    {
      "cell_type": "markdown",
      "metadata": {
        "id": "Qv4Y4zAjdUxd"
      },
      "source": [
        "\n",
        "# FASTTEXT Embeddings"
      ]
    },
    {
      "cell_type": "code",
      "metadata": {
        "id": "GWORnEEqo4Oe"
      },
      "source": [
        "from tqdm.notebook import tqdm"
      ],
      "execution_count": 54,
      "outputs": []
    },
    {
      "cell_type": "code",
      "metadata": {
        "id": "XSv4rxgpo6JI",
        "colab": {
          "base_uri": "https://localhost:8080/",
          "height": 66,
          "referenced_widgets": [
            "4aa979f35b0b4572afea6042ff43e435",
            "ba1da6820f624797a473166c3147ee26",
            "a773b3b95cd04e2cae16d3fd6e5e3c87",
            "642ccf844d7044ddacbd788acc89b92e",
            "41d84180badc44b6aa427d11446d4b41",
            "a94548c8b57c4014adc165eb778e2046",
            "422a0e6509914643b6dd2efa86f8f352",
            "29af956ab1c94b3eae710333cd856796"
          ]
        },
        "outputId": "02148ea2-889a-4f93-9a1c-fb442f0d6d0e"
      },
      "source": [
        "with open(\"/content/drive/MyDrive/k/NLP/capstone/wiki-news-300d-1M.vec\", 'rb') as vecfile:  \n",
        "  embeddings = {}\n",
        "  limit = 4\n",
        "  l = vecfile.readlines()\n",
        "  l.pop(0)\n",
        "  for index,line in tqdm(enumerate(l)):\n",
        "    conv = str(line, 'utf-8')\n",
        "    word = conv.split(\" \")[0]\n",
        "    embd = conv.split(\" \")[1:]\n",
        "    embd = list(map(float,embd))\n",
        "    embd = np.asarray(embd)\n",
        "    embeddings[word] = embd \n",
        "\n",
        "embedding_matrix = np.zeros((vocab_len, 300))\n",
        "for word, i in tokenizer.word_index.items():\n",
        "\tembedding_vector = embeddings.get(word)\n",
        "\tif embedding_vector is not None:\n",
        "\t\tembedding_matrix[i] = embedding_vector\n"
      ],
      "execution_count": 55,
      "outputs": [
        {
          "output_type": "display_data",
          "data": {
            "application/vnd.jupyter.widget-view+json": {
              "model_id": "4aa979f35b0b4572afea6042ff43e435",
              "version_minor": 0,
              "version_major": 2
            },
            "text/plain": [
              "HBox(children=(FloatProgress(value=1.0, bar_style='info', max=1.0), HTML(value='')))"
            ]
          },
          "metadata": {
            "tags": []
          }
        },
        {
          "output_type": "stream",
          "text": [
            "\n"
          ],
          "name": "stdout"
        }
      ]
    },
    {
      "cell_type": "code",
      "metadata": {
        "id": "zrY29J88UO8a"
      },
      "source": [
        "from tensorflow.keras.layers import LSTM,Embedding,Flatten,Input,Dense,Bidirectional\n",
        "from tensorflow.keras.models import Sequential"
      ],
      "execution_count": 56,
      "outputs": []
    },
    {
      "cell_type": "code",
      "metadata": {
        "id": "rtiofxVsT7Dp",
        "colab": {
          "base_uri": "https://localhost:8080/"
        },
        "outputId": "393f6677-9529-4b3f-d933-adc8cf3a7b81"
      },
      "source": [
        "model = Sequential()\n",
        "model.add(Embedding(input_dim = vocab_len,output_dim = 300,weights = [embedding_matrix],input_length=max_len,trainable = False))\n",
        "model.add(Bidirectional(LSTM(50)))\n",
        "model.add(Flatten())\n",
        "model.add(Dropout(0.5))\n",
        "model.add(Dense(64))\n",
        "model.add(Dense(8,activation='softmax'))\n",
        "print(model.summary())"
      ],
      "execution_count": 57,
      "outputs": [
        {
          "output_type": "stream",
          "text": [
            "Model: \"sequential_1\"\n",
            "_________________________________________________________________\n",
            "Layer (type)                 Output Shape              Param #   \n",
            "=================================================================\n",
            "embedding_1 (Embedding)      (None, 30, 300)           1973700   \n",
            "_________________________________________________________________\n",
            "bidirectional_1 (Bidirection (None, 100)               140400    \n",
            "_________________________________________________________________\n",
            "flatten_1 (Flatten)          (None, 100)               0         \n",
            "_________________________________________________________________\n",
            "dropout (Dropout)            (None, 100)               0         \n",
            "_________________________________________________________________\n",
            "dense_3 (Dense)              (None, 64)                6464      \n",
            "_________________________________________________________________\n",
            "dense_4 (Dense)              (None, 8)                 520       \n",
            "=================================================================\n",
            "Total params: 2,121,084\n",
            "Trainable params: 147,384\n",
            "Non-trainable params: 1,973,700\n",
            "_________________________________________________________________\n",
            "None\n"
          ],
          "name": "stdout"
        }
      ]
    },
    {
      "cell_type": "code",
      "metadata": {
        "id": "tRQw1CU-UQxI"
      },
      "source": [
        "model.compile(loss = 'categorical_crossentropy', optimizer='adam', metrics = ['accuracy'])"
      ],
      "execution_count": 58,
      "outputs": []
    },
    {
      "cell_type": "code",
      "metadata": {
        "id": "OQp9xYybUj7b",
        "colab": {
          "base_uri": "https://localhost:8080/"
        },
        "outputId": "7e5b2050-704c-4203-ad56-c869f72eee79"
      },
      "source": [
        "model.fit(x_train,y_train,epochs=20,batch_size=16,validation_data=(x_test,y_test))"
      ],
      "execution_count": 59,
      "outputs": [
        {
          "output_type": "stream",
          "text": [
            "Epoch 1/20\n",
            "284/284 [==============================] - 12s 32ms/step - loss: 1.0822 - accuracy: 0.7125 - val_loss: 0.6654 - val_accuracy: 0.7848\n",
            "Epoch 2/20\n",
            "284/284 [==============================] - 8s 28ms/step - loss: 0.6684 - accuracy: 0.7978 - val_loss: 0.5950 - val_accuracy: 0.8113\n",
            "Epoch 3/20\n",
            "284/284 [==============================] - 8s 28ms/step - loss: 0.5456 - accuracy: 0.8252 - val_loss: 0.5736 - val_accuracy: 0.8131\n",
            "Epoch 4/20\n",
            "284/284 [==============================] - 8s 28ms/step - loss: 0.4882 - accuracy: 0.8409 - val_loss: 0.5632 - val_accuracy: 0.8122\n",
            "Epoch 5/20\n",
            "284/284 [==============================] - 8s 28ms/step - loss: 0.4681 - accuracy: 0.8435 - val_loss: 0.5818 - val_accuracy: 0.8228\n",
            "Epoch 6/20\n",
            "284/284 [==============================] - 8s 28ms/step - loss: 0.4705 - accuracy: 0.8381 - val_loss: 0.5492 - val_accuracy: 0.8210\n",
            "Epoch 7/20\n",
            "284/284 [==============================] - 8s 28ms/step - loss: 0.4021 - accuracy: 0.8588 - val_loss: 0.5703 - val_accuracy: 0.8157\n",
            "Epoch 8/20\n",
            "284/284 [==============================] - 8s 28ms/step - loss: 0.3499 - accuracy: 0.8632 - val_loss: 0.5318 - val_accuracy: 0.8263\n",
            "Epoch 9/20\n",
            "284/284 [==============================] - 8s 28ms/step - loss: 0.3544 - accuracy: 0.8721 - val_loss: 0.5319 - val_accuracy: 0.8280\n",
            "Epoch 10/20\n",
            "284/284 [==============================] - 8s 28ms/step - loss: 0.3200 - accuracy: 0.8893 - val_loss: 0.5956 - val_accuracy: 0.8166\n",
            "Epoch 11/20\n",
            "284/284 [==============================] - 8s 29ms/step - loss: 0.3059 - accuracy: 0.8895 - val_loss: 0.5854 - val_accuracy: 0.8210\n",
            "Epoch 12/20\n",
            "284/284 [==============================] - 8s 29ms/step - loss: 0.2800 - accuracy: 0.8980 - val_loss: 0.6280 - val_accuracy: 0.8245\n",
            "Epoch 13/20\n",
            "284/284 [==============================] - 8s 28ms/step - loss: 0.2479 - accuracy: 0.9104 - val_loss: 0.6216 - val_accuracy: 0.8316\n",
            "Epoch 14/20\n",
            "284/284 [==============================] - 8s 29ms/step - loss: 0.2528 - accuracy: 0.9044 - val_loss: 0.5534 - val_accuracy: 0.8236\n",
            "Epoch 15/20\n",
            "284/284 [==============================] - 9s 32ms/step - loss: 0.2260 - accuracy: 0.9120 - val_loss: 0.5985 - val_accuracy: 0.8183\n",
            "Epoch 16/20\n",
            "284/284 [==============================] - 8s 29ms/step - loss: 0.2188 - accuracy: 0.9082 - val_loss: 0.6863 - val_accuracy: 0.8201\n",
            "Epoch 17/20\n",
            "284/284 [==============================] - 8s 29ms/step - loss: 0.1940 - accuracy: 0.9229 - val_loss: 0.7193 - val_accuracy: 0.8078\n",
            "Epoch 18/20\n",
            "284/284 [==============================] - 8s 29ms/step - loss: 0.1956 - accuracy: 0.9312 - val_loss: 0.7276 - val_accuracy: 0.8316\n",
            "Epoch 19/20\n",
            "284/284 [==============================] - 8s 29ms/step - loss: 0.1935 - accuracy: 0.9244 - val_loss: 0.6612 - val_accuracy: 0.8219\n",
            "Epoch 20/20\n",
            "284/284 [==============================] - 8s 29ms/step - loss: 0.1808 - accuracy: 0.9277 - val_loss: 0.8057 - val_accuracy: 0.8175\n"
          ],
          "name": "stdout"
        },
        {
          "output_type": "execute_result",
          "data": {
            "text/plain": [
              "<tensorflow.python.keras.callbacks.History at 0x7f9f8a47b2d0>"
            ]
          },
          "metadata": {
            "tags": []
          },
          "execution_count": 59
        }
      ]
    },
    {
      "cell_type": "code",
      "metadata": {
        "id": "c5m4ClujLcuq",
        "colab": {
          "base_uri": "https://localhost:8080/"
        },
        "outputId": "b9cae88f-fa34-4603-8e2b-9c6c85f22c0b"
      },
      "source": [
        "model.evaluate(x_test,y_test)"
      ],
      "execution_count": 60,
      "outputs": [
        {
          "output_type": "stream",
          "text": [
            "36/36 [==============================] - 0s 12ms/step - loss: 0.8057 - accuracy: 0.8175\n"
          ],
          "name": "stdout"
        },
        {
          "output_type": "execute_result",
          "data": {
            "text/plain": [
              "[0.8057384490966797, 0.817460298538208]"
            ]
          },
          "metadata": {
            "tags": []
          },
          "execution_count": 60
        }
      ]
    },
    {
      "cell_type": "code",
      "metadata": {
        "id": "mYS_oQKdUugf"
      },
      "source": [
        "from sklearn.metrics import confusion_matrix"
      ],
      "execution_count": 61,
      "outputs": []
    },
    {
      "cell_type": "code",
      "metadata": {
        "id": "okrX41ho-jIk"
      },
      "source": [
        "predicted_labels = model.predict(x_test)"
      ],
      "execution_count": 62,
      "outputs": []
    },
    {
      "cell_type": "code",
      "metadata": {
        "id": "4rKGzNPN-jCa"
      },
      "source": [
        "y_pred = np.where(predicted_labels>0.5,1,0)"
      ],
      "execution_count": 63,
      "outputs": []
    },
    {
      "cell_type": "code",
      "metadata": {
        "id": "Gg8B2OYK-i_2"
      },
      "source": [
        "cm = confusion_matrix(y_test.argmax(axis=1),y_pred.argmax(axis=1))\n"
      ],
      "execution_count": 64,
      "outputs": []
    },
    {
      "cell_type": "code",
      "metadata": {
        "id": "4v9QNHjT-i8o",
        "colab": {
          "base_uri": "https://localhost:8080/",
          "height": 501
        },
        "outputId": "21e285f5-011c-4988-8f42-f1a46b58691d"
      },
      "source": [
        "plt.figure(figsize=(8,8))\n",
        "sns.heatmap(cm,annot=True,xticklabels=labels_,yticklabels=labels_,fmt='.4g',cmap='gist_earth')"
      ],
      "execution_count": 66,
      "outputs": [
        {
          "output_type": "execute_result",
          "data": {
            "text/plain": [
              "<matplotlib.axes._subplots.AxesSubplot at 0x7f9f89ffc550>"
            ]
          },
          "metadata": {
            "tags": []
          },
          "execution_count": 66
        },
        {
          "output_type": "display_data",
          "data": {
            "image/png": "[encoded data removed]",
            "text/plain": [
              "<Figure size 576x576 with 2 Axes>"
            ]
          },
          "metadata": {
            "tags": [],
            "needs_background": "light"
          }
        }
      ]
    },
    {
      "cell_type": "code",
      "metadata": {
        "id": "TaiOlX10-i5K"
      },
      "source": [
        ""
      ],
      "execution_count": 65,
      "outputs": []
    },
    {
      "cell_type": "markdown",
      "metadata": {
        "id": "0W1xtbvzdYkb"
      },
      "source": [
        "# "
      ]
    },
    {
      "cell_type": "code",
      "metadata": {
        "id": "AMkIZg_ADCqA"
      },
      "source": [
        ""
      ],
      "execution_count": 65,
      "outputs": []
    },
    {
      "cell_type": "code",
      "metadata": {
        "id": "o3LRC3TvD46S"
      },
      "source": [
        ""
      ],
      "execution_count": 65,
      "outputs": []
    },
    {
      "cell_type": "code",
      "metadata": {
        "id": "WB2gcMtlD5Ba"
      },
      "source": [
        ""
      ],
      "execution_count": 65,
      "outputs": []
    }
  ]
}